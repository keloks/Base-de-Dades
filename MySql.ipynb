{
 "cells": [
  {
   "cell_type": "markdown",
   "id": "2c85fc52",
   "metadata": {},
   "source": [
    "### - Exercici 1\n",
    "\n",
    "Crea una base de dades relacionals senzilla utilitzant MySQL(https://www.mysql.com/) i connecta-la a Python"
   ]
  },
  {
   "cell_type": "code",
   "execution_count": 55,
   "id": "feff8e40",
   "metadata": {},
   "outputs": [],
   "source": [
    "import mysql.connector"
   ]
  },
  {
   "cell_type": "code",
   "execution_count": 56,
   "id": "1a3d7961",
   "metadata": {},
   "outputs": [],
   "source": [
    "#connect to mysql server and the database napster\n",
    "mydb = mysql.connector.connect(host = 'localhost',\n",
    "                              user = 'root',\n",
    "                              password = 'Armeleta',\n",
    "                              database = 'napster',\n",
    "                              use_pure = True ) #Avoid SSL error"
   ]
  },
  {
   "cell_type": "markdown",
   "id": "6575acde",
   "metadata": {},
   "source": [
    "### Nivell 2\n",
    "\n",
    "- Exercici 2\n",
    "\n",
    "Mostra que pots carregar algunes consultes senzilles a un Pandas Dataframe."
   ]
  },
  {
   "cell_type": "code",
   "execution_count": 57,
   "id": "9d9f5552",
   "metadata": {
    "code_folding": []
   },
   "outputs": [
    {
     "name": "stdout",
     "output_type": "stream",
     "text": [
      "['artist', 'genre', 'song']\n"
     ]
    }
   ],
   "source": [
    "mc = mydb.cursor(buffered = True)\n",
    "mc.execute('show tables')\n",
    "\n",
    "tableNames = []\n",
    "#Show the names of the tables\n",
    "for table in mc:\n",
    "    tableNames.append(table[0])\n",
    "\n",
    "print(tableNames)"
   ]
  },
  {
   "cell_type": "code",
   "execution_count": 58,
   "id": "74f671c5",
   "metadata": {
    "code_folding": []
   },
   "outputs": [],
   "source": [
    "def printID_values(colname, mycursor):\n",
    "    mycursor.execute('select * from ' + colname)\n",
    "    \n",
    "    entries = mycursor.fetchall()\n",
    "    \n",
    "    for valueID, *values in entries:        \n",
    "        for count, value in enumerate(values):\n",
    "            if type(value) is not 'str':\n",
    "                values[count] = str(value)\n",
    "        print(valueID, '->', ', '.join(values))\n",
    "    "
   ]
  },
  {
   "cell_type": "code",
   "execution_count": 59,
   "id": "1d669a21",
   "metadata": {
    "code_folding": []
   },
   "outputs": [
    {
     "name": "stdout",
     "output_type": "stream",
     "text": [
      "1 -> Queen\n",
      "2 -> Nirvana\n",
      "3 -> Spice Girls\n",
      "4 -> Salt and Pepa\n",
      "5 -> Pendulum\n"
     ]
    }
   ],
   "source": [
    "#Let's check the artists table\n",
    "printID_values('artist', mc)"
   ]
  },
  {
   "cell_type": "code",
   "execution_count": 60,
   "id": "964b4ad5",
   "metadata": {
    "code_folding": []
   },
   "outputs": [
    {
     "name": "stdout",
     "output_type": "stream",
     "text": [
      "1 -> Rock\n",
      "2 -> Pop\n",
      "3 -> Hip hop\n",
      "4 -> Drum and bass\n"
     ]
    }
   ],
   "source": [
    "#check genres table\n",
    "printID_values('genre', mc)"
   ]
  },
  {
   "cell_type": "code",
   "execution_count": 61,
   "id": "53f88121",
   "metadata": {},
   "outputs": [
    {
     "name": "stdout",
     "output_type": "stream",
     "text": [
      "1 -> Don't Stop me now, 1, 1\n",
      "2 -> Bohemian Rhapsody, 1, 1\n",
      "3 -> Smells like teen spirit, 2, 1\n",
      "4 -> Bycicle, 1, 2\n",
      "5 -> Wannabe, 3, 2\n",
      "6 -> Leero (Concert), 1, 2\n",
      "7 -> Come as you are, 2, 1\n",
      "8 -> Friend, 3, 2\n",
      "9 -> Shoop, 4, 3\n",
      "10 -> Say you'll be there, 3, 2\n",
      "11 -> Push it, 4, 3\n",
      "12 -> Self vs Self, 5, 4\n",
      "13 -> I want to break free, 1, 1\n"
     ]
    }
   ],
   "source": [
    "#check the songs table\n",
    "printID_values('song', mc)"
   ]
  },
  {
   "cell_type": "markdown",
   "id": "6532c8b3",
   "metadata": {},
   "source": [
    "We do not know what the numbers next to the song names are so:"
   ]
  },
  {
   "cell_type": "code",
   "execution_count": 62,
   "id": "33b3bcf5",
   "metadata": {},
   "outputs": [
    {
     "name": "stdout",
     "output_type": "stream",
     "text": [
      "Names of columns in the song table\n",
      "idSONG\n",
      "NAME\n",
      "idARTIST\n",
      "idGENRE\n"
     ]
    }
   ],
   "source": [
    "mc.execute('select * from song')\n",
    "\n",
    "print('Names of columns in the song table')\n",
    "\n",
    "for colTuple in mc.description:\n",
    "    print(colTuple[0])"
   ]
  },
  {
   "cell_type": "markdown",
   "id": "7f7c180d",
   "metadata": {},
   "source": [
    "Let's make some joins:"
   ]
  },
  {
   "cell_type": "code",
   "execution_count": 78,
   "id": "73d50dac",
   "metadata": {},
   "outputs": [],
   "source": [
    "def songFinder(search_criteria, search_field, myCursor):\n",
    "    \n",
    "    if search_criteria == 'song':\n",
    "        myCursor.execute(f'select aux.name, artist.name, genre.name\\\n",
    "                           from ((( select * \\\n",
    "                                  from song \\\n",
    "                                  where name like \"{search_field}\") as aux \\\n",
    "                           left join artist on aux.idartist = artist.idartist)\\\n",
    "                           left join genre on aux.idgenre = genre.idgenre)')\n",
    "        \n",
    "        songTuple = myCursor.fetchall()\n",
    "        \n",
    "        print('Song:', songTuple[0][0], '// Artist:', songTuple[0][1],\n",
    "              '// Genre:', songTuple[0][2])\n",
    "        \n",
    "    elif search_criteria == 'artist':\n",
    "        myCursor.execute(f'select song.name, auxtab.name\\\n",
    "                          from (song \\\n",
    "                          right join (select * from artist \\\n",
    "                                      where name = \"Queen\") as auxtab \\\n",
    "                          on song.idartist = auxtab.idartist)')\n",
    "        \n",
    "        artistTuple = myCursor.fetchall()\n",
    "        for item in artistTuple:\n",
    "            print(item)\n",
    "    "
   ]
  },
  {
   "cell_type": "code",
   "execution_count": 79,
   "id": "92747fae",
   "metadata": {},
   "outputs": [
    {
     "name": "stdout",
     "output_type": "stream",
     "text": [
      "Song: Self vs Self // Artist: Pendulum // Genre: Drum and bass\n"
     ]
    }
   ],
   "source": [
    "#Find the son 'self vs self and its info'\n",
    "songFinder('song', 'self vs self', mc)"
   ]
  },
  {
   "cell_type": "code",
   "execution_count": 80,
   "id": "ce41df40",
   "metadata": {},
   "outputs": [
    {
     "name": "stdout",
     "output_type": "stream",
     "text": [
      "(\"Don't Stop me now\", 'Queen')\n",
      "('Bohemian Rhapsody', 'Queen')\n",
      "('Bycicle', 'Queen')\n",
      "('Leero (Concert)', 'Queen')\n",
      "('I want to break free', 'Queen')\n"
     ]
    }
   ],
   "source": [
    "#find all songs by Queen\n",
    "songFinder('artist', 'Queen', mc)"
   ]
  },
  {
   "cell_type": "markdown",
   "id": "6995b7a7",
   "metadata": {},
   "source": [
    "Finally let's make a join of all the songs and put them into a dataframe"
   ]
  },
  {
   "cell_type": "code",
   "execution_count": 83,
   "id": "d23901c1",
   "metadata": {},
   "outputs": [
    {
     "name": "stdout",
     "output_type": "stream",
     "text": [
      "[('Self vs Self', 'Pendulum', 'Drum and bass'), ('Shoop', 'Salt and Pepa', 'Hip hop'), ('Push it', 'Salt and Pepa', 'Hip hop'), ('Bycicle', 'Queen', 'Pop'), ('Wannabe', 'Spice Girls', 'Pop'), ('Leero (Concert)', 'Queen', 'Pop'), ('Friend', 'Spice Girls', 'Pop'), (\"Say you'll be there\", 'Spice Girls', 'Pop'), (\"Don't Stop me now\", 'Queen', 'Rock'), ('Bohemian Rhapsody', 'Queen', 'Rock'), ('Smells like teen spirit', 'Nirvana', 'Rock'), ('Come as you are', 'Nirvana', 'Rock'), ('I want to break free', 'Queen', 'Rock')]\n"
     ]
    }
   ],
   "source": [
    "#Create a table containing all the names of songs/artist/genre ordered by genre\n",
    "mc.execute('select song.name, artist.name, genre.name \\\n",
    "            from ((song left join artist on song.idartist = artist.idartist) \\\n",
    "            left join genre on song.idgenre = genre.idgenre) \\\n",
    "            order by genre.name')\n",
    "\n",
    "allSongs = mc.fetchall()\n",
    "print(allSongs)"
   ]
  },
  {
   "cell_type": "code",
   "execution_count": 86,
   "id": "7c8fafee",
   "metadata": {},
   "outputs": [
    {
     "data": {
      "text/html": [
       "<div>\n",
       "<style scoped>\n",
       "    .dataframe tbody tr th:only-of-type {\n",
       "        vertical-align: middle;\n",
       "    }\n",
       "\n",
       "    .dataframe tbody tr th {\n",
       "        vertical-align: top;\n",
       "    }\n",
       "\n",
       "    .dataframe thead th {\n",
       "        text-align: right;\n",
       "    }\n",
       "</style>\n",
       "<table border=\"1\" class=\"dataframe\">\n",
       "  <thead>\n",
       "    <tr style=\"text-align: right;\">\n",
       "      <th></th>\n",
       "      <th>Song</th>\n",
       "      <th>Artist</th>\n",
       "      <th>Genre</th>\n",
       "    </tr>\n",
       "  </thead>\n",
       "  <tbody>\n",
       "    <tr>\n",
       "      <th>0</th>\n",
       "      <td>Self vs Self</td>\n",
       "      <td>Pendulum</td>\n",
       "      <td>Drum and bass</td>\n",
       "    </tr>\n",
       "    <tr>\n",
       "      <th>1</th>\n",
       "      <td>Shoop</td>\n",
       "      <td>Salt and Pepa</td>\n",
       "      <td>Hip hop</td>\n",
       "    </tr>\n",
       "    <tr>\n",
       "      <th>2</th>\n",
       "      <td>Push it</td>\n",
       "      <td>Salt and Pepa</td>\n",
       "      <td>Hip hop</td>\n",
       "    </tr>\n",
       "    <tr>\n",
       "      <th>3</th>\n",
       "      <td>Bycicle</td>\n",
       "      <td>Queen</td>\n",
       "      <td>Pop</td>\n",
       "    </tr>\n",
       "    <tr>\n",
       "      <th>4</th>\n",
       "      <td>Wannabe</td>\n",
       "      <td>Spice Girls</td>\n",
       "      <td>Pop</td>\n",
       "    </tr>\n",
       "    <tr>\n",
       "      <th>5</th>\n",
       "      <td>Leero (Concert)</td>\n",
       "      <td>Queen</td>\n",
       "      <td>Pop</td>\n",
       "    </tr>\n",
       "    <tr>\n",
       "      <th>6</th>\n",
       "      <td>Friend</td>\n",
       "      <td>Spice Girls</td>\n",
       "      <td>Pop</td>\n",
       "    </tr>\n",
       "    <tr>\n",
       "      <th>7</th>\n",
       "      <td>Say you'll be there</td>\n",
       "      <td>Spice Girls</td>\n",
       "      <td>Pop</td>\n",
       "    </tr>\n",
       "    <tr>\n",
       "      <th>8</th>\n",
       "      <td>Don't Stop me now</td>\n",
       "      <td>Queen</td>\n",
       "      <td>Rock</td>\n",
       "    </tr>\n",
       "    <tr>\n",
       "      <th>9</th>\n",
       "      <td>Bohemian Rhapsody</td>\n",
       "      <td>Queen</td>\n",
       "      <td>Rock</td>\n",
       "    </tr>\n",
       "    <tr>\n",
       "      <th>10</th>\n",
       "      <td>Smells like teen spirit</td>\n",
       "      <td>Nirvana</td>\n",
       "      <td>Rock</td>\n",
       "    </tr>\n",
       "    <tr>\n",
       "      <th>11</th>\n",
       "      <td>Come as you are</td>\n",
       "      <td>Nirvana</td>\n",
       "      <td>Rock</td>\n",
       "    </tr>\n",
       "    <tr>\n",
       "      <th>12</th>\n",
       "      <td>I want to break free</td>\n",
       "      <td>Queen</td>\n",
       "      <td>Rock</td>\n",
       "    </tr>\n",
       "  </tbody>\n",
       "</table>\n",
       "</div>"
      ],
      "text/plain": [
       "                       Song         Artist          Genre\n",
       "0              Self vs Self       Pendulum  Drum and bass\n",
       "1                     Shoop  Salt and Pepa        Hip hop\n",
       "2                   Push it  Salt and Pepa        Hip hop\n",
       "3                   Bycicle          Queen            Pop\n",
       "4                   Wannabe    Spice Girls            Pop\n",
       "5           Leero (Concert)          Queen            Pop\n",
       "6                    Friend    Spice Girls            Pop\n",
       "7       Say you'll be there    Spice Girls            Pop\n",
       "8         Don't Stop me now          Queen           Rock\n",
       "9         Bohemian Rhapsody          Queen           Rock\n",
       "10  Smells like teen spirit        Nirvana           Rock\n",
       "11          Come as you are        Nirvana           Rock\n",
       "12     I want to break free          Queen           Rock"
      ]
     },
     "execution_count": 86,
     "metadata": {},
     "output_type": "execute_result"
    }
   ],
   "source": [
    "import pandas as pd\n",
    "\n",
    "df = pd.DataFrame(allSongs, columns = ['Song', 'Artist', 'Genre'])\n",
    "df"
   ]
  }
 ],
 "metadata": {
  "anaconda-cloud": {},
  "kernelspec": {
   "display_name": "Python 3 (ipykernel)",
   "language": "python",
   "name": "python3"
  },
  "language_info": {
   "codemirror_mode": {
    "name": "ipython",
    "version": 3
   },
   "file_extension": ".py",
   "mimetype": "text/x-python",
   "name": "python",
   "nbconvert_exporter": "python",
   "pygments_lexer": "ipython3",
   "version": "3.7.11"
  }
 },
 "nbformat": 4,
 "nbformat_minor": 5
}
